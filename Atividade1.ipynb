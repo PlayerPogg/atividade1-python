{
 "cells": [
  {
   "cell_type": "code",
   "execution_count": 13,
   "id": "dc9c7775",
   "metadata": {},
   "outputs": [
    {
     "data": {
      "text/plain": [
       "7.666666666666668"
      ]
     },
     "execution_count": 13,
     "metadata": {},
     "output_type": "execute_result"
    }
   ],
   "source": [
    "#atividade 1\n",
    "((5*(10-4)**2)/3**3+2)-1\n"
   ]
  },
  {
   "cell_type": "code",
   "execution_count": 14,
   "id": "127a7a41",
   "metadata": {},
   "outputs": [
    {
     "data": {
      "text/plain": [
       "10.0"
      ]
     },
     "execution_count": 14,
     "metadata": {},
     "output_type": "execute_result"
    }
   ],
   "source": [
    "#atividade2\n",
    "import math\n",
    "math.sqrt((8-2)**2+(11-3)**2)"
   ]
  },
  {
   "cell_type": "code",
   "execution_count": 15,
   "id": "a578ba49",
   "metadata": {},
   "outputs": [
    {
     "name": "stdout",
     "output_type": "stream",
     "text": [
      "7.55\n"
     ]
    }
   ],
   "source": [
    "#atividade 3\n",
    "prova1=7*3\n",
    "prova2=8.5*5\n",
    "prova3=6*2\n",
    "mediaPonderada=(prova1+prova2+prova3)/10\n",
    "print(mediaPonderada)"
   ]
  }
 ],
 "metadata": {
  "kernelspec": {
   "display_name": "Python 3",
   "language": "python",
   "name": "python3"
  },
  "language_info": {
   "codemirror_mode": {
    "name": "ipython",
    "version": 3
   },
   "file_extension": ".py",
   "mimetype": "text/x-python",
   "name": "python",
   "nbconvert_exporter": "python",
   "pygments_lexer": "ipython3",
   "version": "3.12.1"
  }
 },
 "nbformat": 4,
 "nbformat_minor": 5
}
